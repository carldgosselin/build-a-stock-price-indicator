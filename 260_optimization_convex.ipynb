{
 "cells": [
  {
   "cell_type": "markdown",
   "metadata": {},
   "source": [
    "## Optimization - Convex"
   ]
  },
  {
   "cell_type": "code",
   "execution_count": 1,
   "metadata": {
    "collapsed": false
   },
   "outputs": [
    {
     "data": {
      "application/javascript": [
       "IPython.OutputArea.auto_scroll_threshold = 9999;"
      ],
      "text/plain": [
       "<IPython.core.display.Javascript object>"
      ]
     },
     "metadata": {},
     "output_type": "display_data"
    }
   ],
   "source": [
    "%%javascript\n",
    "IPython.OutputArea.auto_scroll_threshold = 9999;"
   ]
  },
  {
   "cell_type": "code",
   "execution_count": 18,
   "metadata": {
    "collapsed": false
   },
   "outputs": [
    {
     "name": "stdout",
     "output_type": "stream",
     "text": [
      "Original line: C0 = 4.0, C1 = 2.0\n",
      "Optimization terminated successfully.    (Exit mode 0)\n",
      "            Current function value: 46.1871132687\n",
      "            Iterations: 3\n",
      "            Function evaluations: 16\n",
      "            Gradient evaluations: 3\n",
      "Fitted line: C0 = 4.20108742048, C1 = 1.33625100718\n"
     ]
    },
    {
     "data": {
      "image/png": "[encoded data removed]",
      "text/plain": [
       "<matplotlib.figure.Figure at 0x10847cb10>"
      ]
     },
     "metadata": {},
     "output_type": "display_data"
    }
   ],
   "source": [
    "import pandas as pd\n",
    "import numpy as np\n",
    "import scipy.optimize as spo\n",
    "import matplotlib.pyplot as plt\n",
    "%matplotlib inline \n",
    "\n",
    "\n",
    "def fit_line(data, error_func):\n",
    "    l = np.float32([0,np.mean(data[:,1])])\n",
    "    \n",
    "    # Plot initial guess (optional)\n",
    "    x_ends = np.float32([-5,5])\n",
    "    plt.plot(x_ends, l[0] * x_ends + l[1], 'm--', linewidth=2.0, label=\"Initial guess\")\n",
    "    # plt.show()\n",
    "    \n",
    "    # Call optimizer to minimize error function\n",
    "    result = spo.minimize(error_func, l, args=(data,), method=\"SLSQP\", options={'disp':True})\n",
    "    return result.x\n",
    "\n",
    "\n",
    "def error(line, data):\n",
    "    err = np.sum((data[:,1] - (line[0] * data[:,0] + line[1]))**2)\n",
    "    return err\n",
    "\n",
    "\n",
    "def run_optimization_2():\n",
    "\n",
    "    # Define original line\n",
    "    l_orig = np.float32([4,2])\n",
    "    print \"Original line: C0 = {}, C1 = {}\".format(l_orig[0], l_orig[1])\n",
    "    Xorig = np.linspace(0,10,12)\n",
    "    Yorig = l_orig[0] * Xorig + l_orig[1]\n",
    "    plt.plot(Xorig, Yorig, \"b--\", linewidth=2.0, label=\"Original line\")\n",
    "    # plt.show()\n",
    "    \n",
    "    # Generate noisy data\n",
    "    noise_sigma = 3.0\n",
    "    noise = np.random.normal(0,noise_sigma, Yorig.shape)\n",
    "    data = np.asarray([Xorig, Yorig + noise]).T\n",
    "    plt.plot(data[:,0], data[:,1], 'go', label = \"Data points\")\n",
    "    # plt.show()\n",
    "    \n",
    "    #try to fit a line to this data\n",
    "    l_fit = fit_line(data, error)\n",
    "    print \"Fitted line: C0 = {}, C1 = {}\".format(l_fit[0], l_fit[1])\n",
    "    plt.plot(data[:,0], l_fit[0] * data[:,0] + l_fit[1], 'r--', linewidth=2.0, label=\"Fitted line\")\n",
    "    plt.legend(bbox_to_anchor=(1.05, 1), loc=2, borderaxespad=0.)\n",
    "    # plt.show()\n",
    "    \n",
    "    # add legend and show plot\n",
    "\n",
    "    \n",
    "if __name__ == \"__main__\":\n",
    "    run_optimization_2()"
   ]
  }
 ],
 "metadata": {
  "kernelspec": {
   "display_name": "Python 2",
   "language": "python",
   "name": "python2"
  },
  "language_info": {
   "codemirror_mode": {
    "name": "ipython",
    "version": 2
   },
   "file_extension": ".py",
   "mimetype": "text/x-python",
   "name": "python",
   "nbconvert_exporter": "python",
   "pygments_lexer": "ipython2",
   "version": "2.7.12"
  }
 },
 "nbformat": 4,
 "nbformat_minor": 0
}
