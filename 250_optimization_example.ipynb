{
 "cells": [
  {
   "cell_type": "markdown",
   "metadata": {},
   "source": [
    "## Optimization - Example"
   ]
  },
  {
   "cell_type": "code",
   "execution_count": 4,
   "metadata": {
    "collapsed": false
   },
   "outputs": [
    {
     "data": {
      "application/javascript": [
       "IPython.OutputArea.auto_scroll_threshold = 9999;"
      ],
      "text/plain": [
       "<IPython.core.display.Javascript object>"
      ]
     },
     "metadata": {},
     "output_type": "display_data"
    }
   ],
   "source": [
    "%%javascript\n",
    "IPython.OutputArea.auto_scroll_threshold = 9999;"
   ]
  },
  {
   "cell_type": "code",
   "execution_count": 18,
   "metadata": {
    "collapsed": false
   },
   "outputs": [
    {
     "name": "stdout",
     "output_type": "stream",
     "text": [
      "\n",
      "\n",
      "X = [ 2.]\n",
      "Y = [ 0.75]\n",
      "\n",
      "\n",
      "X = [ 2.]\n",
      "Y = [ 0.75]\n",
      "\n",
      "\n",
      "X = [ 2.00000001]\n",
      "Y = [ 0.75000001]\n",
      "\n",
      "\n",
      "X = [ 0.99999999]\n",
      "Y = [ 0.75000001]\n",
      "\n",
      "\n",
      "X = [ 1.5]\n",
      "Y = [ 0.5]\n",
      "\n",
      "\n",
      "X = [ 1.5]\n",
      "Y = [ 0.5]\n",
      "\n",
      "\n",
      "X = [ 1.50000001]\n",
      "Y = [ 0.5]\n",
      "\n",
      "\n",
      "Optimization terminated successfully.    (Exit mode 0)\n",
      "            Current function value: [ 0.5]\n",
      "            Iterations: 2\n",
      "            Function evaluations: 7\n",
      "            Gradient evaluations: 2\n",
      "\n",
      "\n",
      "Minima found at: \n",
      "X=[ 1.5]\n",
      "Y=[ 0.5]\n",
      "\n",
      "\n",
      "X = [ 0.5  0.6  0.7  0.8  0.9  1.   1.1  1.2  1.3  1.4  1.5  1.6  1.7  1.8  1.9\n",
      "  2.   2.1  2.2  2.3  2.4  2.5]\n",
      "Y = [ 1.5   1.31  1.14  0.99  0.86  0.75  0.66  0.59  0.54  0.51  0.5   0.51\n",
      "  0.54  0.59  0.66  0.75  0.86  0.99  1.14  1.31  1.5 ]\n",
      "\n",
      "\n"
     ]
    },
    {
     "data": {
      "image/png": "[encoded data removed]",
      "text/plain": [
       "<matplotlib.figure.Figure at 0x10896fb90>"
      ]
     },
     "metadata": {},
     "output_type": "display_data"
    }
   ],
   "source": [
    "import pandas as pd\n",
    "import numpy as np\n",
    "import scipy.optimize as spo\n",
    "import matplotlib.pyplot as plt\n",
    "%matplotlib inline \n",
    "\n",
    "\n",
    "def f(X):\n",
    "    # Given a scalar X, return some value (a real number)\n",
    "    Y = (X-1.5)**2 + 0.5\n",
    "    # print \"X = {}, Y = {}\".format(X,Y)\n",
    "    print \"X = {}\".format(X)\n",
    "    print \"Y = {}\".format(Y)\n",
    "    print \"\\n\"\n",
    "    return Y\n",
    "\n",
    "\n",
    "def run_optimization():\n",
    "    Xguess = 2.0\n",
    "    print \"\\n\"\n",
    "    min_result = spo.minimize(f, Xguess, method='SLSQP', options={'disp':True})\n",
    "    print \"\\n\"\n",
    "    print \"Minima found at: \"\n",
    "    # print \"X={}, Y={}\".format(min_result.x, min_result.fun)\n",
    "    print \"X={}\".format(min_result.x)\n",
    "    print \"Y={}\".format(min_result.fun)\n",
    "    print \"\\n\"\n",
    "    \n",
    "    # Plot function values, mark minima\n",
    "    Xplot=np.linspace(0.5, 2.5, 21)\n",
    "    Yplot=f(Xplot)\n",
    "    plt.plot(Xplot, Yplot)\n",
    "    plt.plot(min_result.x, min_result.fun, 'ro')\n",
    "    plt.title(\"Minima of an objective function\")\n",
    "    plt.show()\n",
    "\n",
    "    \n",
    "if __name__ == \"__main__\":\n",
    "    run_optimization()"
   ]
  }
 ],
 "metadata": {
  "kernelspec": {
   "display_name": "Python 2",
   "language": "python",
   "name": "python2"
  },
  "language_info": {
   "codemirror_mode": {
    "name": "ipython",
    "version": 2
   },
   "file_extension": ".py",
   "mimetype": "text/x-python",
   "name": "python",
   "nbconvert_exporter": "python",
   "pygments_lexer": "ipython2",
   "version": "2.7.12"
  }
 },
 "nbformat": 4,
 "nbformat_minor": 0
}
