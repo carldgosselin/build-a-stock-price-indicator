{
 "cells": [
  {
   "cell_type": "markdown",
   "metadata": {},
   "source": [
    "## Compute mean volume"
   ]
  },
  {
   "cell_type": "code",
   "execution_count": 3,
   "metadata": {
    "collapsed": false
   },
   "outputs": [
    {
     "name": "stdout",
     "output_type": "stream",
     "text": [
      "Mean Volume\n",
      "AAPL 84599855.3259\n",
      "Mean Volume\n",
      "UPRO 6110448.80763\n"
     ]
    }
   ],
   "source": [
    "import pandas as pd\n",
    "\n",
    "def get_mean_volume(symbol):    \n",
    "    df = pd.read_csv(\"data/{}.csv\".format(symbol))  # read in data\n",
    "    return df['Volume'].mean()\n",
    "\n",
    "def compute_mean_volume():\n",
    "    for symbol in ['AAPL', 'UPRO']:\n",
    "        print \"Mean Volume\"\n",
    "        print symbol, get_mean_volume(symbol)\n",
    "\n",
    "if __name__ == \"__main__\":\n",
    "    compute_mean_volume()\n"
   ]
  }
 ],
 "metadata": {
  "kernelspec": {
   "display_name": "Python 2",
   "language": "python",
   "name": "python2"
  },
  "language_info": {
   "codemirror_mode": {
    "name": "ipython",
    "version": 2
   },
   "file_extension": ".py",
   "mimetype": "text/x-python",
   "name": "python",
   "nbconvert_exporter": "python",
   "pygments_lexer": "ipython2",
   "version": "2.7.12"
  }
 },
 "nbformat": 4,
 "nbformat_minor": 0
}
