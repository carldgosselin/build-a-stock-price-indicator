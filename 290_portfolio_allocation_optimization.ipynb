{
 "cells": [
  {
   "cell_type": "markdown",
   "metadata": {},
   "source": [
    "## Portfolio optimization"
   ]
  },
  {
   "cell_type": "code",
   "execution_count": 26,
   "metadata": {
    "collapsed": false
   },
   "outputs": [
    {
     "data": {
      "application/javascript": [
       "IPython.OutputArea.auto_scroll_threshold = 9999;"
      ],
      "text/plain": [
       "<IPython.core.display.Javascript object>"
      ]
     },
     "metadata": {},
     "output_type": "display_data"
    }
   ],
   "source": [
    "%%javascript\n",
    "IPython.OutputArea.auto_scroll_threshold = 9999;"
   ]
  },
  {
   "cell_type": "code",
   "execution_count": 34,
   "metadata": {
    "collapsed": false
   },
   "outputs": [
    {
     "name": "stdout",
     "output_type": "stream",
     "text": [
      "Optimization terminated successfully.    (Exit mode 0)\n",
      "            Current function value: -2.5940746971\n",
      "            Iterations: 6\n",
      "            Function evaluations: 43\n",
      "            Gradient evaluations: 6\n",
      "\n",
      "\n",
      "optimized allocation:   [  1.46097707e-17   8.01029832e-01   1.66972266e-18   1.98970168e-01\n",
      "   0.00000000e+00]\n"
     ]
    }
   ],
   "source": [
    "import os\n",
    "import pandas as pd\n",
    "import numpy as np\n",
    "import scipy.optimize as spo\n",
    "import matplotlib.pyplot as plt\n",
    "%matplotlib inline \n",
    "\n",
    "def symbol_to_path(symbol, base_dir=\"data\"):\n",
    "    return os.path.join(base_dir, \"{}.csv\".format(str(symbol)))\n",
    "\n",
    "\n",
    "def get_data(symbols, dates):\n",
    "    df = pd.DataFrame(index=dates)\n",
    "    if 'SPY' not in symbols:  # add SPY for reference, if absent\n",
    "        symbols.insert(0, 'SPY')\n",
    "\n",
    "    for symbol in symbols:\n",
    "        df_temp = pd.read_csv(symbol_to_path(symbol), index_col='Date',\n",
    "                parse_dates=True, usecols=['Date', 'Adj Close'], na_values=['nan'])\n",
    "        df_temp = df_temp.rename(columns={'Adj Close': symbol})\n",
    "        df = df.join(df_temp)\n",
    "        if symbol == 'SPY':  # drop dates SPY did not trade\n",
    "            df = df.dropna(subset=[\"SPY\"])\n",
    "\n",
    "    return df\n",
    "  \n",
    "    \n",
    "def normalize_data(df): \n",
    "    return df/ df.ix[0,:]\n",
    "    \n",
    "    \n",
    "def compute_daily_returns_portfolio(df):\n",
    "    daily_returns = (df/df.shift(1)) - 1\n",
    "    daily_returns.ix[0] = 0\n",
    "    \n",
    "    return daily_returns\n",
    " \n",
    "    \n",
    "def function(allocation_guess, df):\n",
    "    \n",
    "    trading_days = 252\n",
    "    starting_value = 1000000 # $1,000,000\n",
    "    \n",
    "    df_normalized = normalize_data(df) # Normalize stock prices\n",
    "    df_normalized_allocation = df_normalized * allocation_guess # apply allocations to normalized data\n",
    "    \n",
    "    # Calculate portfolio value by day\n",
    "    starting_value = [1000000] # starting value of portfolio is $1,000,000\n",
    "    df_normed_allocation_X_starting_value = df_normalized_allocation * starting_value # normalize portfolio\n",
    "    daily_portfolio_values = df_normed_allocation_X_starting_value.sum(axis=1)  # portfolio value by day\n",
    "    \n",
    "    # Compute daily returns\n",
    "    daily_returns = (daily_portfolio_values/daily_portfolio_values.shift(1)) - 1\n",
    "    daily_returns.ix[0] = 0\n",
    "    daily_returns_portfolio = daily_returns\n",
    "    daily_returns_portfolio = daily_returns_portfolio[1:] # Remove first row \"0\" for portfolio calculations\n",
    "\n",
    "    # Calculate negative sharpe ratio to find optimal portfolio allocation\n",
    "    negative_sharpe_ratio = -1 * np.sqrt(trading_days) * (daily_returns_portfolio.mean()/daily_returns_portfolio.std())\n",
    "    return negative_sharpe_ratio\n",
    "\n",
    "\n",
    "def optimize_portfolio_allocation():\n",
    "    \n",
    "    dates = pd.date_range('2015-01-01', '2016-01-01') # Define a date range\n",
    "    symbols = ['SPY', 'AMZN', 'FB', 'AXY', 'GLD'] # Choose stock symbols to read\n",
    "    df = get_data(symbols, dates) # Get stock data\n",
    "    df.fillna(method=\"ffill\", inplace=\"True\") # Forward fill empty trade dates (for AXY)\n",
    "    df.fillna(method=\"bfill\", inplace=\"True\") # backfill empty trade dates (for AXY)\n",
    "    \n",
    "    # find allocations for optimal portfolio\n",
    "    allocation_guess = [0.2, 0.2, 0.2, 0.2, 0.2]\n",
    "    bounds = [(0,1.0) for i in range(len(symbols))]\n",
    "    \n",
    "    optimized_allocation = spo.minimize(function, allocation_guess, args=(df,), bounds=bounds, method='SLSQP', \n",
    "                           options={'disp':True}, \n",
    "                            constraints=({ 'type': 'eq', 'fun': lambda inputs: 1.0 - np.sum(inputs)})).x\n",
    "    \n",
    "    print \"\\n\"\n",
    "    print \"optimized allocation:  \",  optimized_allocation\n",
    "    \n",
    "      \n",
    "if __name__ == \"__main__\":\n",
    "    optimize_portfolio_allocation()"
   ]
  },
  {
   "cell_type": "code",
   "execution_count": null,
   "metadata": {
    "collapsed": true
   },
   "outputs": [],
   "source": []
  }
 ],
 "metadata": {
  "kernelspec": {
   "display_name": "Python 2",
   "language": "python",
   "name": "python2"
  },
  "language_info": {
   "codemirror_mode": {
    "name": "ipython",
    "version": 2
   },
   "file_extension": ".py",
   "mimetype": "text/x-python",
   "name": "python",
   "nbconvert_exporter": "python",
   "pygments_lexer": "ipython2",
   "version": "2.7.12"
  }
 },
 "nbformat": 4,
 "nbformat_minor": 0
}
