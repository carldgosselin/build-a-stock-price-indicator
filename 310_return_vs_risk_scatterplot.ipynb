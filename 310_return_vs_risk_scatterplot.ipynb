{
 "cells": [
  {
   "cell_type": "markdown",
   "metadata": {},
   "source": [
    "## Portfolio optimization"
   ]
  },
  {
   "cell_type": "code",
   "execution_count": null,
   "metadata": {
    "collapsed": false
   },
   "outputs": [],
   "source": [
    "%%javascript\n",
    "IPython.OutputArea.auto_scroll_threshold = 9999;"
   ]
  },
  {
   "cell_type": "code",
   "execution_count": null,
   "metadata": {
    "collapsed": false
   },
   "outputs": [],
   "source": [
    "import os\n",
    "import pandas as pd\n",
    "import numpy as np\n",
    "import scipy.optimize as spo\n",
    "import matplotlib.pyplot as plt\n",
    "%matplotlib inline \n",
    "\n",
    "def symbol_to_path(symbol, base_dir=\"data\"):\n",
    "    return os.path.join(base_dir, \"{}.csv\".format(str(symbol)))\n",
    "\n",
    "\n",
    "def get_data(symbols, dates):\n",
    "    df = pd.DataFrame(index=dates)\n",
    "    if 'SPY' not in symbols:  # add SPY for reference, if absent\n",
    "        symbols.insert(0, 'SPY')\n",
    "\n",
    "    for symbol in symbols:\n",
    "        df_temp = pd.read_csv(symbol_to_path(symbol), index_col='Date',\n",
    "                parse_dates=True, usecols=['Date', 'Adj Close'], na_values=['nan'])\n",
    "        df_temp = df_temp.rename(columns={'Adj Close': symbol})\n",
    "        df = df.join(df_temp)\n",
    "        if symbol == 'SPY':  # drop dates SPY did not trade\n",
    "            df = df.dropna(subset=[\"SPY\"])\n",
    "\n",
    "    return df\n",
    "  \n",
    "    \n",
    "def compute_daily_returns_all(df):\n",
    "    daily_returns = (df/df.shift(1)) - 1\n",
    "    daily_returns.ix[0,:] = 0\n",
    "    \n",
    "    return daily_returns\n",
    "   \n",
    "    \n",
    "def normalize_data(df):\n",
    "    return df/ df.ix[0,:]\n",
    "    \n",
    "    \n",
    "def compute_daily_returns_portfolio(df):\n",
    "    daily_returns = (df/df.shift(1)) - 1\n",
    "    daily_returns.ix[0] = 0\n",
    "    \n",
    "    return daily_returns\n",
    "\n",
    "    \n",
    "def show_mean_variance_scatterplot():\n",
    "    \n",
    "    dates = pd.date_range('2015-01-01', '2016-01-01') # Define a date range\n",
    "    symbols = ['SPY', 'AMZN', 'FB', 'AXY', 'GLD'] # Choose stock symbols to read\n",
    "    df = get_data(symbols, dates) # Get stock data\n",
    "    df.fillna(method=\"ffill\", inplace=\"True\") # Forward fill empty trade dates (for AXY)\n",
    "    df.fillna(method=\"bfill\", inplace=\"True\") # backfill empty trade dates (for AXY)\n",
    "    \n",
    "    # Compute daily returns\n",
    "    daily_returns_all = compute_daily_returns_all(df)\n",
    "    daily_returns_all = daily_returns_all[1:] # Remove first row \"0\"\n",
    "    \n",
    "    \n",
    "    df_normalized = normalize_data(df) # Normalize stock prices\n",
    "    \n",
    "    daily_returns_stocks = compute_daily_returns_portfolio(df_normalized) # Compute daily returns\n",
    "    daily_returns_stocks = daily_returns_stocks[1:] # Remove first row \"0\" for portfolio calculations\n",
    "    \n",
    "    \n",
    "    # turn following manual code into a loop...\n",
    "    print \"\\n\"\n",
    "    daily_return_SPY = daily_returns_stocks['SPY'].mean()\n",
    "    daily_risk_SPY = daily_returns_stocks['SPY'].std()   \n",
    "    daily_return_AMZN = daily_returns_stocks['AMZN'].mean()\n",
    "    daily_risk_AMZN = daily_returns_stocks['AMZN'].std()\n",
    "    daily_return_FB = daily_returns_stocks['FB'].mean()\n",
    "    daily_risk_FB = daily_returns_stocks['FB'].std()\n",
    "    daily_return_AXY = daily_returns_stocks['AXY'].mean()\n",
    "    daily_risk_AXY = daily_returns_stocks['AXY'].std()\n",
    "    daily_return_GLD = daily_returns_stocks['GLD'].mean()\n",
    "    daily_risk_GLD = daily_returns_stocks['GLD'].std()\n",
    "    x_risk = np.array([daily_risk_SPY, daily_risk_AMZN, daily_risk_FB, daily_risk_AXY, daily_risk_GLD],)\n",
    "    y_return = np.array([daily_return_SPY, daily_return_AMZN, daily_return_FB, daily_return_AXY, daily_return_GLD],)\n",
    "    \n",
    "    # scatterplot return vs risk...\n",
    "    plt.scatter(x_risk, y_return)\n",
    "    plt.title(\"Return_vs_Risk\")\n",
    "    plt.xlabel(\"Risk\")\n",
    "    plt.ylabel(\"Return\")\n",
    "    plt.annotate(\"SPY\", (x_risk[0], y_return[0]))\n",
    "    plt.annotate(\"AMZN\", (x_risk[1], y_return[1]))\n",
    "    plt.annotate(\"FB\", (x_risk[2], y_return[2]))\n",
    "    plt.annotate(\"AXY\", (x_risk[3], y_return[3]))\n",
    "    plt.annotate(\"GLD\", (x_risk[4], y_return[4]))\n",
    "    plt.show()\n",
    "    \n",
    "    # print \"\\n\"\n",
    "    # print (\"Average daily return - SPY: {0:.9f}\".format(round(daily_return_SPY,9)))\n",
    "    # print (\"Average daily risk - SPY: {0:.9f}\".format(round(daily_risk_SPY,9)))\n",
    "    \n",
    "    \n",
    "if __name__ == \"__main__\":\n",
    "    show_mean_variance_scatterplot()"
   ]
  },
  {
   "cell_type": "code",
   "execution_count": null,
   "metadata": {
    "collapsed": true
   },
   "outputs": [],
   "source": []
  }
 ],
 "metadata": {
  "kernelspec": {
   "display_name": "Python 2",
   "language": "python",
   "name": "python2"
  },
  "language_info": {
   "codemirror_mode": {
    "name": "ipython",
    "version": 2
   },
   "file_extension": ".py",
   "mimetype": "text/x-python",
   "name": "python",
   "nbconvert_exporter": "python",
   "pygments_lexer": "ipython2",
   "version": "2.7.12"
  }
 },
 "nbformat": 4,
 "nbformat_minor": 0
}
