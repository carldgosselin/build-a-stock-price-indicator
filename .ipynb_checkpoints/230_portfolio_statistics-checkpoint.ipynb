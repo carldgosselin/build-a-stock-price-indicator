{
 "cells": [
  {
   "cell_type": "markdown",
   "metadata": {},
   "source": [
    "## Portfolio statistics"
   ]
  },
  {
   "cell_type": "code",
   "execution_count": 1,
   "metadata": {
    "collapsed": false
   },
   "outputs": [],
   "source": [
    "# The code below increases the size of the output screen..."
   ]
  },
  {
   "cell_type": "code",
   "execution_count": 2,
   "metadata": {
    "collapsed": false
   },
   "outputs": [
    {
     "data": {
      "application/javascript": [
       "IPython.OutputArea.auto_scroll_threshold = 9999;"
      ],
      "text/plain": [
       "<IPython.core.display.Javascript object>"
      ]
     },
     "metadata": {},
     "output_type": "display_data"
    }
   ],
   "source": [
    "%%javascript\n",
    "IPython.OutputArea.auto_scroll_threshold = 9999;"
   ]
  },
  {
   "cell_type": "code",
   "execution_count": 3,
   "metadata": {
    "collapsed": false
   },
   "outputs": [],
   "source": [
    "import os\n",
    "import pandas as pd\n",
    "import numpy as np\n",
    "import matplotlib.pyplot as plt\n",
    "%matplotlib inline"
   ]
  },
  {
   "cell_type": "code",
   "execution_count": 19,
   "metadata": {
    "collapsed": false
   },
   "outputs": [
    {
     "name": "stdout",
     "output_type": "stream",
     "text": [
      "SPY\n",
      "First price:  199.207798\n",
      "Last price:  201.774586\n",
      "cumulative result:  1.28849775248 %\n",
      "\n",
      "\n",
      "AMZN\n",
      "First price:  308.519989\n",
      "Last price:  675.890015\n",
      "cumulative result:  119.074951089 %\n",
      "\n",
      "\n",
      "FB\n",
      "First price:  78.449997\n",
      "Last price:  104.660004\n",
      "cumulative result:  33.4098253694 %\n",
      "\n",
      "\n",
      "AXY\n",
      "First price:  0.33\n",
      "Last price:  0.46\n",
      "cumulative result:  39.3939393939 %\n",
      "\n",
      "\n",
      "GLD\n",
      "First price:  114.080002\n",
      "Last price:  101.459999\n",
      "cumulative result:  -11.062414778 %\n",
      "\n",
      "\n",
      "Average daily returns: \n",
      "SPY     0.000098\n",
      "AMZN    0.003332\n",
      "FB      0.001275\n",
      "AXY     0.001732\n",
      "GLD    -0.000426\n",
      "dtype: float64\n",
      "\n",
      "\n",
      "Daily standard deviation: \n",
      "SPY     0.009722\n",
      "AMZN    0.021141\n",
      "FB      0.016173\n",
      "AXY     0.028934\n",
      "GLD     0.008866\n",
      "dtype: float64\n",
      "\n",
      "\n"
     ]
    }
   ],
   "source": [
    "def symbol_to_path(symbol, base_dir=\"data\"):\n",
    "    return os.path.join(base_dir, \"{}.csv\".format(str(symbol)))\n",
    "\n",
    "\n",
    "def get_data(symbols, dates):\n",
    "    df = pd.DataFrame(index=dates)\n",
    "    if 'SPY' not in symbols:  # add SPY for reference, if absent\n",
    "        symbols.insert(0, 'SPY')\n",
    "\n",
    "    for symbol in symbols:\n",
    "        df_temp = pd.read_csv(symbol_to_path(symbol), index_col='Date',\n",
    "                parse_dates=True, usecols=['Date', 'Adj Close'], na_values=['nan'])\n",
    "        df_temp = df_temp.rename(columns={'Adj Close': symbol})\n",
    "        df = df.join(df_temp)\n",
    "        if symbol == 'SPY':  # drop dates SPY did not trade\n",
    "            df = df.dropna(subset=[\"SPY\"])\n",
    "\n",
    "    return df\n",
    "\n",
    "\n",
    "def plot_data(df, title=\"Stock prices\", xlabel=\"Date\", ylabel=\"Price\"):\n",
    "    ax = df.plot(title=title, fontsize=12, figsize=(20,5))\n",
    "    ax.set_xlabel(xlabel)\n",
    "    ax.set_ylabel(ylabel)\n",
    "    plt.show()\n",
    "\n",
    "\n",
    "def compute_daily_returns(df):\n",
    "    daily_returns = (df/df.shift(1)) - 1\n",
    "    daily_returns.ix[0,:] = 0\n",
    "    \n",
    "    return daily_returns\n",
    "\n",
    "def compute_cumulative_returns(df, symbols):\n",
    "    \n",
    "    for symbol in symbols:\n",
    "        \n",
    "        first_price = df[symbol][0]\n",
    "        last_price = df[symbol][-1]\n",
    "        cumulative_result = (last_price / first_price - 1) * 100\n",
    "\n",
    "        print symbol\n",
    "        print \"First price: \", first_price\n",
    "        print \"Last price: \", last_price\n",
    "        print \"cumulative result: \", cumulative_result, \"%\"\n",
    "        print \"\\n\"\n",
    "\n",
    "\n",
    "def run_portfolio_statistics():\n",
    "    # Read data\n",
    "    dates = pd.date_range('2015-01-01', '2015-12-31')\n",
    "    \n",
    "    # Fictitious portfolio\n",
    "    symbols = ['SPY','AMZN','FB','AXY','GLD']\n",
    "    df = get_data(symbols, dates)\n",
    "    \n",
    "    # fill empty trade dates (for AXY)\n",
    "    df.fillna(method=\"ffill\", inplace=\"True\")\n",
    "    df.fillna(method=\"bfill\", inplace=\"True\")\n",
    "    \n",
    "    # plot_data(df)\n",
    "\n",
    "    # Compute daily returns\n",
    "    daily_returns = compute_daily_returns(df)\n",
    "    \n",
    "    # Compute cumulative returns\n",
    "    compute_cumulative_returns(df, symbols)\n",
    "    \n",
    "    # Compute average daily returns\n",
    "    print \"Average daily returns: \"\n",
    "    print daily_returns.mean()\n",
    "    print \"\\n\"\n",
    "    \n",
    "    # Compute daily returns - standard deviation\n",
    "    print \"Daily returns - standard deviation: \"\n",
    "    print daily_returns.std()\n",
    "    print \"\\n\"\n",
    "    \n",
    "    # Compute Sharpe ratio\n",
    "    print \"Daily returns - standard deviation: \"\n",
    "    \n",
    "    print \"\\n\"\n",
    "    \n",
    "    \n",
    "    \n",
    "    # Scatterplot - SPY and GOOG\n",
    "    # daily_returns.plot(kind='scatter', x='SPY', y='GOOG')\n",
    "    # beta_GOOG, alpha_GOOG =np.polyfit(daily_returns['SPY'], daily_returns['GOOG'],1)\n",
    "    # print \"beta_GOOG = \", beta_GOOG, \"(Tells you how much more reactive it is to the market than the comparing stock.)\"\n",
    "    # print \"alpha_GOOG = \", alpha_GOOG, \"(Denotes how well it performs with respect to the comparing stock.)\"\n",
    "    # plt.plot(daily_returns['SPY'], beta_GOOG*daily_returns['SPY'] + alpha_GOOG, '-', color='r')\n",
    "    # plt.show()\n",
    "    # print \"\\n\"\n",
    "    \n",
    "    # print daily_returns.corr(method='pearson')\n",
    "    \n",
    "if __name__ == \"__main__\":\n",
    "    \n",
    "    run_portfolio_statistics()\n"
   ]
  },
  {
   "cell_type": "code",
   "execution_count": null,
   "metadata": {
    "collapsed": true
   },
   "outputs": [],
   "source": []
  }
 ],
 "metadata": {
  "kernelspec": {
   "display_name": "Python 2",
   "language": "python",
   "name": "python2"
  },
  "language_info": {
   "codemirror_mode": {
    "name": "ipython",
    "version": 2
   },
   "file_extension": ".py",
   "mimetype": "text/x-python",
   "name": "python",
   "nbconvert_exporter": "python",
   "pygments_lexer": "ipython2",
   "version": "2.7.12"
  }
 },
 "nbformat": 4,
 "nbformat_minor": 0
}
