{
 "cells": [
  {
   "cell_type": "markdown",
   "metadata": {},
   "source": [
    "## Portfolio optimization - Example"
   ]
  },
  {
   "cell_type": "code",
   "execution_count": 1,
   "metadata": {
    "collapsed": false
   },
   "outputs": [
    {
     "data": {
      "application/javascript": [
       "IPython.OutputArea.auto_scroll_threshold = 9999;"
      ],
      "text/plain": [
       "<IPython.core.display.Javascript object>"
      ]
     },
     "metadata": {},
     "output_type": "display_data"
    }
   ],
   "source": [
    "%%javascript\n",
    "IPython.OutputArea.auto_scroll_threshold = 9999;"
   ]
  },
  {
   "cell_type": "code",
   "execution_count": null,
   "metadata": {
    "collapsed": false
   },
   "outputs": [],
   "source": [
    "import pandas as pd\n",
    "import numpy as np\n",
    "import matplotlib.pyplot as plt\n",
    "import scipy.optimize as spo\n",
    "\n",
    "def read_stock(stock, usecols=['Date', 'Adj Close']):\n",
    "\tdf = pd.read_csv('{}.csv'.format(stock),\n",
    "\t\tindex_col='Date',\n",
    "\t\tparse_dates = True,\n",
    "\t\tusecols = usecols,\n",
    "\t\tna_values = ['nan']);\n",
    "\n",
    "\tdf = df.rename(columns = {'Adj Close': stock})\n",
    "\n",
    "\treturn df\n",
    "\n",
    "def normalize(stockTable):\n",
    "\treturn stockTable / stockTable.values[0]\n",
    "\n",
    "\n",
    "def get_portfolio_negative_sharp(allocs, stockTable):\n",
    "\tstd = np.asarray(stockTable.std().values)\n",
    "\treturn_val = np.asarray(stockTable[-1:].values[0]) * allocs\n",
    "\tsharpe = -1 * sum((return_val / std) * allocs)\n",
    "\treturn sharpe\n",
    "\n",
    "def sumOne(n):\n",
    "\treturn sum(n) - 1\n",
    "\n",
    "def run():\n",
    "\tstart_date=\"2010.01.01\"\n",
    "\tend_date=\"2010.12.31\"\n",
    "\n",
    "\tassetList = ['GLD', 'GOOG', 'AAPL', 'SPY']\n",
    "\tallocs = (0.25, 0.25, 0.25, 0.25)\n",
    "\n",
    "\tstockTable = pd.DataFrame(index = pd.date_range(start_date, end_date))\n",
    "\n",
    "\tfor asset in assetList:\n",
    "\t\tstockTable = stockTable.join(read_stock(asset), how = 'inner')\n",
    "\n",
    "\tstockTable.sort_index(inplace = True)\n",
    "\tstockTable = normalize(stockTable)\n",
    "\t#stockTable = stockTable * allocs\n",
    "\n",
    "\t#print stockTable\n",
    "\tstd = np.asarray(stockTable.std().values)\n",
    "\n",
    "\treturn_val = np.asarray(pd.DataFrame(stockTable[-1:]).values[0]) * allocs\n",
    "\n",
    "\tsharpe = return_val / std\n",
    "\n",
    "\tprint return_val\n",
    "\tprint std\n",
    "\tprint sharpe\n",
    "\n",
    "\tprint sum(sharpe)\n",
    "\n",
    "\t#print get_portfolio_negative_sharp(allocs, stockTable)\n",
    "\n",
    "\tsharpe_minimized_allocs = spo.minimize(get_portfolio_negative_sharp, allocs,\n",
    "\t\t\t\t\t\t\tmethod = 'SLSQP',\n",
    "\t\t\t\t\t\t\targs = (stockTable,),\n",
    "\t\t\t\t\t\t\tbounds = ((0, 1),(0, 1),(0, 1),(0, 1)),\n",
    "\t\t\t\t\t\t\tconstraints = ({'type' : 'eq', 'fun' : sumOne })\n",
    "\t\t\t\t\t\t\t)\n",
    "\n",
    "\tprint sharpe_minimized_allocs\n",
    "\n",
    "\t#stockTable.plot()\n",
    "\t#plt.show()\n",
    "\n",
    "\n",
    "\n",
    "\n",
    "if __name__  == '__main__':\n",
    "    run()"
   ]
  },
  {
   "cell_type": "code",
   "execution_count": null,
   "metadata": {
    "collapsed": true
   },
   "outputs": [],
   "source": []
  }
 ],
 "metadata": {
  "kernelspec": {
   "display_name": "Python 2",
   "language": "python",
   "name": "python2"
  },
  "language_info": {
   "codemirror_mode": {
    "name": "ipython",
    "version": 2
   },
   "file_extension": ".py",
   "mimetype": "text/x-python",
   "name": "python",
   "nbconvert_exporter": "python",
   "pygments_lexer": "ipython2",
   "version": "2.7.12"
  }
 },
 "nbformat": 4,
 "nbformat_minor": 0
}
