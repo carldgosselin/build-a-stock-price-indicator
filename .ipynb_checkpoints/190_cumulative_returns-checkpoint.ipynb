{
 "cells": [
  {
   "cell_type": "markdown",
   "metadata": {},
   "source": [
    "## Compute cumulative returns"
   ]
  },
  {
   "cell_type": "code",
   "execution_count": 1,
   "metadata": {
    "collapsed": false
   },
   "outputs": [],
   "source": [
    "# The code below increases the size of the output screen..."
   ]
  },
  {
   "cell_type": "code",
   "execution_count": 2,
   "metadata": {
    "collapsed": false
   },
   "outputs": [
    {
     "data": {
      "application/javascript": [
       "IPython.OutputArea.auto_scroll_threshold = 9999;"
      ],
      "text/plain": [
       "<IPython.core.display.Javascript object>"
      ]
     },
     "metadata": {},
     "output_type": "display_data"
    }
   ],
   "source": [
    "%%javascript\n",
    "IPython.OutputArea.auto_scroll_threshold = 9999;"
   ]
  },
  {
   "cell_type": "code",
   "execution_count": 13,
   "metadata": {
    "collapsed": false
   },
   "outputs": [
    {
     "name": "stdout",
     "output_type": "stream",
     "text": [
      "Cumulative returns for year 2015\n",
      "note: with this code, you have the ability to set the start date on the day of purchase.\n",
      "This will tell you the exact cumulative result of your investment.\n",
      "\n",
      "\n",
      "SPY\n",
      "First price:  199.207798\n",
      "Last price:  201.774586\n",
      "cumulative result:  1.28849775248 %\n",
      "\n",
      "\n",
      "UPRO\n",
      "First price:  65.823667\n",
      "Last price:  62.54164\n",
      "cumulative result:  -4.98608957778 %\n",
      "\n",
      "\n",
      "GOOG\n",
      "First price:  524.812404\n",
      "Last price:  758.880005\n",
      "cumulative result:  44.6002417656 %\n",
      "\n",
      "\n",
      "AAPL\n",
      "First price:  105.69862\n",
      "Last price:  103.49769\n",
      "cumulative result:  -2.08226938062 %\n",
      "\n",
      "\n",
      "AMZN\n",
      "First price:  308.519989\n",
      "Last price:  675.890015\n",
      "cumulative result:  119.074951089 %\n",
      "\n",
      "\n",
      "DIS\n",
      "First price:  91.946309\n",
      "Last price:  104.322185\n",
      "cumulative result:  13.4598942955 %\n",
      "\n",
      "\n",
      "NFLX\n",
      "First price:  49.848572\n",
      "Last price:  114.379997\n",
      "cumulative result:  129.454911968 %\n",
      "\n",
      "\n",
      "FB\n",
      "First price:  78.449997\n",
      "Last price:  104.660004\n",
      "cumulative result:  33.4098253694 %\n",
      "\n",
      "\n",
      "AXY\n",
      "First price:  0.33\n",
      "Last price:  0.46\n",
      "cumulative result:  39.3939393939 %\n",
      "\n",
      "\n",
      "VIX\n",
      "First price:  17.790001\n",
      "Last price:  18.209999\n",
      "cumulative result:  2.36086552215 %\n",
      "\n",
      "\n",
      "TSLA\n",
      "First price:  219.309998\n",
      "Last price:  240.009995\n",
      "cumulative result:  9.43869280415 %\n",
      "\n",
      "\n",
      "GWPH\n",
      "First price:  70.040001\n",
      "Last price:  69.440002\n",
      "cumulative result:  -0.856651900962 %\n",
      "\n",
      "\n",
      "MSFT\n",
      "First price:  44.882326\n",
      "Last price:  54.701894\n",
      "cumulative result:  21.8784739454 %\n",
      "\n",
      "\n",
      "GLD\n",
      "First price:  114.080002\n",
      "Last price:  101.459999\n",
      "cumulative result:  -11.062414778 %\n",
      "\n",
      "\n"
     ]
    }
   ],
   "source": [
    "import os\n",
    "import pandas as pd\n",
    "import matplotlib.pyplot as plt\n",
    "%matplotlib inline\n",
    "\n",
    "def symbol_to_path(symbol, base_dir=\"data\"):\n",
    "    return os.path.join(base_dir, \"{}.csv\".format(str(symbol)))\n",
    "\n",
    "\n",
    "def get_data(symbols, dates):\n",
    "    df = pd.DataFrame(index=dates)\n",
    "    if 'SPY' not in symbols:  # add SPY for reference, if absent\n",
    "        symbols.insert(0, 'SPY')\n",
    "\n",
    "    for symbol in symbols:\n",
    "        df_temp = pd.read_csv(symbol_to_path(symbol), index_col='Date',\n",
    "                parse_dates=True, usecols=['Date', 'Adj Close'], na_values=['nan'])\n",
    "        df_temp = df_temp.rename(columns={'Adj Close': symbol})\n",
    "        df = df.join(df_temp)\n",
    "        if symbol == 'SPY':  # drop dates SPY did not trade\n",
    "            df = df.dropna(subset=[\"SPY\"])\n",
    "\n",
    "    return df\n",
    "\n",
    "\n",
    "def compute_cumulative_returns(df, symbols):\n",
    "    \n",
    "    for symbol in symbols:\n",
    "        \n",
    "        first_price = df[symbol][0]\n",
    "        last_price = df[symbol][-1]\n",
    "        cumulative_result = (last_price / first_price - 1) * 100\n",
    "\n",
    "        print symbol\n",
    "        print \"First price: \", first_price\n",
    "        print \"Last price: \", last_price\n",
    "        print \"cumulative result: \", cumulative_result, \"%\"\n",
    "        print \"\\n\"\n",
    "\n",
    "\n",
    "def run_cumulative_returns():\n",
    "    # Read data\n",
    "    dates = pd.date_range('2015-01-01', '2016-01-01') # cumulative return for the year\n",
    "    symbols = ['SPY','UPRO','GOOG','AAPL','AMZN','DIS','NFLX','FB','AXY','VIX','TSLA','GWPH','MSFT','GLD']\n",
    "    df = get_data(symbols, dates)\n",
    "\n",
    "    \n",
    "    print \"Cumulative returns for year 2015\"\n",
    "    print \"note: with this code, you have the ability to set the start date on the day of purchase.\"\n",
    "    print \"This will tell you the exact cumulative result of your investment.\"\n",
    "    print \"\\n\"\n",
    "    \n",
    "    # Compute cumulative returns\n",
    "    compute_cumulative_returns(df, symbols)\n",
    "\n",
    "\n",
    "if __name__ == \"__main__\":\n",
    "    run_cumulative_returns()\n"
   ]
  }
 ],
 "metadata": {
  "kernelspec": {
   "display_name": "Python 2",
   "language": "python",
   "name": "python2"
  },
  "language_info": {
   "codemirror_mode": {
    "name": "ipython",
    "version": 2
   },
   "file_extension": ".py",
   "mimetype": "text/x-python",
   "name": "python",
   "nbconvert_exporter": "python",
   "pygments_lexer": "ipython2",
   "version": "2.7.12"
  }
 },
 "nbformat": 4,
 "nbformat_minor": 0
}
