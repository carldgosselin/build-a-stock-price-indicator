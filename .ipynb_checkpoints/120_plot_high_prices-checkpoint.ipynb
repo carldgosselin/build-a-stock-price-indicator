{
 "cells": [
  {
   "cell_type": "markdown",
   "metadata": {},
   "source": [
    "## Plot high prices\n"
   ]
  },
  {
   "cell_type": "code",
   "execution_count": 1,
   "metadata": {
    "collapsed": false
   },
   "outputs": [
    {
     "name": "stdout",
     "output_type": "stream",
     "text": [
      "0       58.500000\n",
      "1       58.090000\n",
      "2       58.209999\n",
      "3       57.520000\n",
      "4       57.110001\n",
      "5       56.900002\n",
      "6       56.750000\n",
      "7       56.759998\n",
      "8       56.369999\n",
      "9       56.799999\n",
      "10      57.290001\n",
      "11      56.740002\n",
      "12      56.630001\n",
      "13      56.230000\n",
      "14      56.840000\n",
      "15      53.900002\n",
      "16      54.340000\n",
      "17      54.000000\n",
      "18      53.990002\n",
      "19      53.860001\n",
      "20      53.400002\n",
      "21      52.830002\n",
      "22      52.360001\n",
      "23      51.610001\n",
      "24      51.540001\n",
      "25      51.279999\n",
      "26      51.720001\n",
      "27      51.299999\n",
      "28      50.720001\n",
      "29      49.470001\n",
      "          ...    \n",
      "1228    27.059999\n",
      "1229    27.500000\n",
      "1230    27.309999\n",
      "1231    27.270000\n",
      "1232    27.030001\n",
      "1233    26.799999\n",
      "1234    26.190001\n",
      "1235    25.930000\n",
      "1236    26.180000\n",
      "1237    26.660000\n",
      "1238    26.000000\n",
      "1239    25.590000\n",
      "1240    26.000000\n",
      "1241    26.860001\n",
      "1242    26.709999\n",
      "1243    26.430000\n",
      "1244    25.860001\n",
      "1245    25.340000\n",
      "1246    25.160000\n",
      "1247    24.930000\n",
      "1248    24.750000\n",
      "1249    24.490000\n",
      "1250    24.620001\n",
      "1251    25.090000\n",
      "1252    25.700001\n",
      "1253    25.590000\n",
      "1254    25.580000\n",
      "1255    25.340000\n",
      "1256    25.379999\n",
      "1257    25.090000\n",
      "Name: High, dtype: float64\n"
     ]
    }
   ],
   "source": [
    "import pandas as pd\n",
    "import matplotlib.pyplot as plt\n",
    "\n",
    "def plot_high_prices():\n",
    "    df = pd.read_csv(\"data/MSFT.csv\")\n",
    "    print df['High']\n",
    "    df ['High'].plot()\n",
    "    plt.xlabel('Days', fontsize=12)\n",
    "    plt.ylabel('Price', fontsize=12)\n",
    "    plt.title('High prices for MSFT')\n",
    "    plt.show()\n",
    "\n",
    "if __name__ == \"__main__\":\n",
    "    plot_high_prices()\n"
   ]
  }
 ],
 "metadata": {
  "kernelspec": {
   "display_name": "Python 2",
   "language": "python",
   "name": "python2"
  },
  "language_info": {
   "codemirror_mode": {
    "name": "ipython",
    "version": 2
   },
   "file_extension": ".py",
   "mimetype": "text/x-python",
   "name": "python",
   "nbconvert_exporter": "python",
   "pygments_lexer": "ipython2",
   "version": "2.7.12"
  }
 },
 "nbformat": 4,
 "nbformat_minor": 0
}
