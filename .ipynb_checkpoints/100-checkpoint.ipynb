{
 "cells": [
  {
   "cell_type": "markdown",
   "metadata": {},
   "source": [
    "..."
   ]
  },
  {
   "cell_type": "markdown",
   "metadata": {},
   "source": [
    "## Upload the Data\n",
    "\n",
    "_To execute a code cell, click inside it and press **Shift+Enter**._"
   ]
  },
  {
   "cell_type": "code",
   "execution_count": 2,
   "metadata": {
    "collapsed": false
   },
   "outputs": [
    {
     "name": "stdout",
     "output_type": "stream",
     "text": [
      "            Date        Open        High         Low       Close     Volume  \\\n",
      "1253  2011-08-16  381.520000  383.370003  376.060009  380.480003  124687500   \n",
      "1254  2011-08-15  379.629997  384.970013  378.089989  383.410004  115136000   \n",
      "1255  2011-08-12  378.069988  379.640011  374.230007  376.989990  132244000   \n",
      "1256  2011-08-11  370.519989  375.450008  364.719990  373.700008  185492300   \n",
      "1257  2011-08-10  371.149990  374.649990  362.499992  363.690006  219664200   \n",
      "\n",
      "      Adj Close  \n",
      "1253  49.762728  \n",
      "1254  50.145941  \n",
      "1255  49.306272  \n",
      "1256  48.875977  \n",
      "1257  47.566776  \n"
     ]
    }
   ],
   "source": [
    "# Import libraries\n",
    "import pandas as pd\n",
    "\n",
    "# Read the data\n",
    "def read_data():\n",
    "    \"\"\"Function called by Test Run.\"\"\"\n",
    "    df = pd.read_csv(\"data/AAPL.csv\")\n",
    "    # TODO: Print last 5 rows of the data frame\n",
    "    print df.tail()\n",
    "\n",
    "\n",
    "if __name__ == \"__main__\":\n",
    "    read_data()\n"
   ]
  },
  {
   "cell_type": "code",
   "execution_count": null,
   "metadata": {
    "collapsed": false
   },
   "outputs": [],
   "source": []
  }
 ],
 "metadata": {
  "kernelspec": {
   "display_name": "Python 2",
   "language": "python",
   "name": "python2"
  },
  "language_info": {
   "codemirror_mode": {
    "name": "ipython",
    "version": 2
   },
   "file_extension": ".py",
   "mimetype": "text/x-python",
   "name": "python",
   "nbconvert_exporter": "python",
   "pygments_lexer": "ipython2",
   "version": "2.7.12"
  }
 },
 "nbformat": 4,
 "nbformat_minor": 0
}
