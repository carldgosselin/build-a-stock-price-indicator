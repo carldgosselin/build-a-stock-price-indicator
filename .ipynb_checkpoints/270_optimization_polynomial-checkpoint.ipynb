{
 "cells": [
  {
   "cell_type": "markdown",
   "metadata": {},
   "source": [
    "## Optimization - Polynomial"
   ]
  },
  {
   "cell_type": "code",
   "execution_count": 1,
   "metadata": {
    "collapsed": false
   },
   "outputs": [
    {
     "data": {
      "application/javascript": [
       "IPython.OutputArea.auto_scroll_threshold = 9999;"
      ],
      "text/plain": [
       "<IPython.core.display.Javascript object>"
      ]
     },
     "metadata": {},
     "output_type": "display_data"
    }
   ],
   "source": [
    "%%javascript\n",
    "IPython.OutputArea.auto_scroll_threshold = 9999;"
   ]
  },
  {
   "cell_type": "code",
   "execution_count": 4,
   "metadata": {
    "collapsed": false
   },
   "outputs": [
    {
     "name": "stdout",
     "output_type": "stream",
     "text": [
      "Original line: C0 = 4.0, C1 = 2.0\n",
      "Optimization terminated successfully.    (Exit mode 0)\n",
      "            Current function value: 87.1488186423\n",
      "            Iterations: 8\n",
      "            Function evaluations: 59\n",
      "            Gradient evaluations: 8\n",
      "Fitted polynomial: C0 = 4.64842331125, C1 = 2.79588843522\n"
     ]
    },
    {
     "data": {
      "image/png": "[encoded data removed]",
      "text/plain": [
       "<matplotlib.figure.Figure at 0x103fd1ed0>"
      ]
     },
     "metadata": {},
     "output_type": "display_data"
    }
   ],
   "source": [
    "import pandas as pd\n",
    "import numpy as np\n",
    "import scipy.optimize as spo\n",
    "import matplotlib.pyplot as plt\n",
    "%matplotlib inline \n",
    "\n",
    "\n",
    "#def fit_line(data, error_func):\n",
    "    #l = np.float32([0,np.mean(data[:,1])])\n",
    "    \n",
    "    ## Plot initial guess (optional)\n",
    "    #x_ends = np.float32([-5,5])\n",
    "    #plt.plot(x_ends, l[0] * x_ends + l[1], 'm--', linewidth=2.0, label=\"Initial guess\")\n",
    "    ## plt.show()\n",
    "    \n",
    "    ## Call optimizer to minimize error function\n",
    "    #result = spo.minimize(error_func, l, args=(data,), method=\"SLSQP\", options={'disp':True})\n",
    "    #return result.x\n",
    "\n",
    "def fit_poly(data, error_func, degree=3):\n",
    "    # generate initial guess\n",
    "    Cguess = np.poly1d(np.ones(degree + 1, dtype = np.float32))\n",
    "    \n",
    "    # plot initial guess (optional)\n",
    "    x = np.linspace(-5, 5, 21)\n",
    "    plt.plot(x, np.polyval(Cguess, x), 'm--', linewidth=2.0, label = \"Initial Guess\")\n",
    "    \n",
    "    # call optimizer to minimize error function\n",
    "    result = spo.minimize(error_func, Cguess, args = (data,), method = 'SLSQP', options = {'disp':True})\n",
    "    \n",
    "    return np.poly1d(result.x)\n",
    "\n",
    "\n",
    "\n",
    "#def error(line, data):\n",
    "    #err = np.sum((data[:,1] - (line[0] * data[:,0] + line[1]))**2)\n",
    "    #return err\n",
    "\n",
    "def error_poly(C, data):\n",
    "    # compute error between given polynomial and observed data\n",
    "    err = np.sum((data[:,1] - np.polyval(C, data[:,0]))**2)\n",
    "    return err\n",
    "\n",
    "\n",
    "\n",
    "def run_optimization_polynomial():\n",
    "\n",
    "    # Define original line\n",
    "    l_orig = np.float32([4,2])\n",
    "    print \"Original line: C0 = {}, C1 = {}\".format(l_orig[0], l_orig[1])\n",
    "    Xorig = np.linspace(0,10,12)\n",
    "    Yorig = l_orig[0] * Xorig + l_orig[1]\n",
    "    plt.plot(Xorig, Yorig, \"b--\", linewidth=2.0, label=\"Original line\")\n",
    "    # plt.show()\n",
    "    \n",
    "    # Generate noisy data\n",
    "    noise_sigma = 3.0\n",
    "    noise = np.random.normal(0,noise_sigma, Yorig.shape)\n",
    "    data = np.asarray([Xorig, Yorig + noise]).T\n",
    "    plt.plot(data[:,0], data[:,1], 'go', label = \"Data points\")\n",
    "    # plt.show()\n",
    "    \n",
    "    ## try to fit a line to this data\n",
    "    # l_fit = fit_line(data, error)\n",
    "    # print \"Fitted line: C0 = {}, C1 = {}\".format(l_fit[0], l_fit[1])\n",
    "    # plt.plot(data[:,0], l_fit[0] * data[:,0] + l_fit[1], 'r--', linewidth=2.0, label=\"Fitted line\")\n",
    "    # plt.legend(bbox_to_anchor=(1.05, 1), loc=2, borderaxespad=0.)\n",
    "    ## plt.show()\n",
    "    \n",
    "    # try to fit a polynomial to this data\n",
    "    l_fit = fit_poly(data, error_poly)\n",
    "    print \"Fitted polynomial: C0 = {}, C1 = {}\".format(l_fit[0], l_fit[1])\n",
    "    plt.plot(data[:,0], l_fit[0] * data[:,0] + l_fit[1], 'r--', linewidth=2.0, label=\"Fitted polynomial\")\n",
    "    plt.legend(bbox_to_anchor=(1.05, 1), loc=2, borderaxespad=0.)\n",
    "    # plt.show()\n",
    "    \n",
    "    # add legend and show plot\n",
    "\n",
    "    \n",
    "if __name__ == \"__main__\":\n",
    "    run_optimization_polynomial()"
   ]
  }
 ],
 "metadata": {
  "kernelspec": {
   "display_name": "Python 2",
   "language": "python",
   "name": "python2"
  },
  "language_info": {
   "codemirror_mode": {
    "name": "ipython",
    "version": 2
   },
   "file_extension": ".py",
   "mimetype": "text/x-python",
   "name": "python",
   "nbconvert_exporter": "python",
   "pygments_lexer": "ipython2",
   "version": "2.7.12"
  }
 },
 "nbformat": 4,
 "nbformat_minor": 0
}
