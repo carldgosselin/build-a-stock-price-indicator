{
 "cells": [
  {
   "cell_type": "markdown",
   "metadata": {},
   "source": [
    "# Fixed Operations\n",
    "# Using Machine Learning Algorithms for Trending and Predictive Modeling\n",
    "\n",
    "Overview:\n",
    "\n",
    "The following code can be used to identify trends and predictive scores within dealership data.  The example below provides a prediction on the Total Gross Profit for the Fixed Ops department based on the KNN (K-nearest neighbor) algorithm."
   ]
  },
  {
   "cell_type": "markdown",
   "metadata": {},
   "source": [
    "## Upload the Data\n",
    "\n",
    "_To execute a code cell, click inside it and press **Shift+Enter**._"
   ]
  },
  {
   "cell_type": "code",
   "execution_count": 4,
   "metadata": {
    "collapsed": false
   },
   "outputs": [
    {
     "name": "stdout",
     "output_type": "stream",
     "text": [
      "\n",
      "\n",
      "Result...\n",
      "Fixed Operations data read successfully!\n",
      "Number of dealerships used for trending/predictive modeling: 25\n",
      "Number of columns/data-points per dealership: 40\n"
     ]
    }
   ],
   "source": [
    "# Import libraries\n",
    "import numpy as np\n",
    "import pandas as pd\n",
    "\n",
    "from sklearn.utils import shuffle\n",
    "from sklearn.cross_validation import train_test_split\n",
    "from sklearn.grid_search import GridSearchCV\n",
    "\n",
    "# Read the data\n",
    "fixed_ops_data = pd.read_csv(\"fixed_operations_data.csv\")\n",
    "print \"\\n\"\n",
    "print \"Result...\"\n",
    "print \"Fixed Operations data read successfully!\"\n",
    "\n",
    "# Identify number of dealerships and number of data-points per dealership\n",
    "n_dealerships = len(fixed_ops_data)\n",
    "n_columns = len(fixed_ops_data.columns)\n",
    "\n",
    "print \"Number of dealerships used for trending/predictive modeling: {}\".format(n_dealerships)\n",
    "print \"Number of columns/data-points per dealership: {}\".format(n_columns)"
   ]
  },
  {
   "cell_type": "markdown",
   "metadata": {},
   "source": [
    "## Prepare the Data\n",
    "Prepare the data for modeling, training and testing.\n",
    "\n",
    "### A) Identify feature and target columns\n",
    "In this exercise, the \"Total GP $ Fixed Ops Department\" will be target column.  The algorithm will predict the Total GP using the data provided.\n",
    "\n",
    "### B) Split data into training and test sets\n",
    "Split the data (both features and target) into training and test sets.  This is to identify and prevent \"overfitting\" of the data."
   ]
  },
  {
   "cell_type": "code",
   "execution_count": 5,
   "metadata": {
    "collapsed": false
   },
   "outputs": [
    {
     "name": "stdout",
     "output_type": "stream",
     "text": [
      "Training set: 20 dealerships\n",
      "Test set: 5 dealerships\n"
     ]
    }
   ],
   "source": [
    "# Extract feature (X) and target (y) columns\n",
    "feature_cols = list(fixed_ops_data.columns[1:-1])  # all columns but the first and last are features\n",
    "target_col = fixed_ops_data.columns[-1]  # last column is the target/label -> Total GP for fixed ops department\n",
    "\n",
    "X_all = fixed_ops_data[feature_cols]  # feature values for all dealerships\n",
    "y_all = fixed_ops_data[target_col]  # corresponding targets (total GP for Fixed Department)\n",
    "\n",
    "# Identify training vs test split\n",
    "num_all = fixed_ops_data.shape[0]  # all dealerships\n",
    "num_train = 20  # training group size\n",
    "num_test = num_all - num_train  # testing group size\n",
    "\n",
    "# Randomly shuffle\n",
    "X_all, y_all = shuffle(X_all, y_all, random_state=0)\n",
    "\n",
    "# Divide into training and testing set\n",
    "X_train, X_test, y_train, y_test = train_test_split(X_all, y_all, test_size=num_test, random_state=0)\n",
    "\n",
    "print \"Training set: {} dealerships\".format(X_train.shape[0])\n",
    "print \"Test set: {} dealerships\".format(X_test.shape[0])"
   ]
  },
  {
   "cell_type": "markdown",
   "metadata": {},
   "source": [
    "## Train Machine Learning Model\n",
    "\n",
    "KNeighborsRegressor model:  regression based on k-nearest neighbors.\n",
    "\n",
    "The target is predicted by local interpolation of the targets associated of the nearest neighbors in the training set."
   ]
  },
  {
   "cell_type": "code",
   "execution_count": 6,
   "metadata": {
    "collapsed": false,
    "scrolled": false
   },
   "outputs": [
    {
     "name": "stdout",
     "output_type": "stream",
     "text": [
      "Training KNeighborsRegressor...\n",
      "best parameter:  {'n_neighbors': 2}\n",
      "best score:  -9.56912768025\n",
      "KNeighborsRegressor(algorithm='auto', leaf_size=30, metric='minkowski',\n",
      "          metric_params=None, n_neighbors=5, p=2, weights='uniform')\n"
     ]
    }
   ],
   "source": [
    "# Train a model\n",
    "import time\n",
    "\n",
    "def train_knn(knn, X_train, y_train):\n",
    "    print \"Training {}...\".format(knn.__class__.__name__)\n",
    "    start = time.time()\n",
    "    \n",
    "    # parameters for gridsearchCV\n",
    "    k = [1,2,3,4,5,6,7,8,9,10]\n",
    "    parameters = {'n_neighbors': k}\n",
    "    \n",
    "    # Implement GridSearchCV\n",
    "    knn = GridSearchCV(knn, parameters, cv=10)\n",
    "    knn.fit(X_train, y_train)\n",
    "    \n",
    "    print \"best parameter: \", knn.best_params_\n",
    "    print \"best score: \", knn.best_score_\n",
    "    \n",
    "    end = time.time()\n",
    "    return knn\n",
    "    \n",
    "# Apply model, import and instantiate object\n",
    "from sklearn.neighbors import KNeighborsRegressor\n",
    "knn = KNeighborsRegressor()\n",
    "\n",
    "# Fit model to training data\n",
    "train_knn(knn, X_train, y_train)\n",
    "print knn"
   ]
  },
  {
   "cell_type": "code",
   "execution_count": 14,
   "metadata": {
    "collapsed": false
   },
   "outputs": [
    {
     "name": "stdout",
     "output_type": "stream",
     "text": [
      "dealership:  Gosselin_County_Nissan (fictitious account)\n",
      "Prediction on Total GP for Fixed Ops Department: $717,739.00\n"
     ]
    }
   ],
   "source": [
    "# Update knn with best parameter\n",
    "# knn = KNeighborsRegressor(n_neighbors=2, weights='distance')\n",
    "knn = KNeighborsRegressor(n_neighbors=2)\n",
    "\n",
    "# Fit data - compare between training data and testing data for \"overfitting\"\n",
    "# knn.fit(X_test, y_test)\n",
    "knn.fit(X_train, y_train)\n",
    "\n",
    "# Predict the output of a particular sample\n",
    "# Read the data\n",
    "fixed_ops_data = pd.read_csv(\"fixed_operations_input_sheet.csv\")\n",
    "feature_cols = list(fixed_ops_data.columns[1:-1])  # all columns but last are features\n",
    "dealership_name = fixed_ops_data.dealership[0]  # all columns but last are features\n",
    "x = fixed_ops_data[feature_cols]  # feature values for all dealerships\n",
    "y = knn.predict(x)  \n",
    "\n",
    "print \"dealership: \", dealership_name\n",
    "print \"Prediction on Total GP for Fixed Ops Department: ${:,.2f}\".format(y[0])"
   ]
  },
  {
   "cell_type": "code",
   "execution_count": null,
   "metadata": {
    "collapsed": true
   },
   "outputs": [],
   "source": []
  }
 ],
 "metadata": {
  "kernelspec": {
   "display_name": "Python 2",
   "language": "python",
   "name": "python2"
  },
  "language_info": {
   "codemirror_mode": {
    "name": "ipython",
    "version": 2
   },
   "file_extension": ".py",
   "mimetype": "text/x-python",
   "name": "python",
   "nbconvert_exporter": "python",
   "pygments_lexer": "ipython2",
   "version": "2.7.12"
  }
 },
 "nbformat": 4,
 "nbformat_minor": 0
}
