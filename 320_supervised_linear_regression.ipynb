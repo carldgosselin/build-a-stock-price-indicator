{
 "cells": [
  {
   "cell_type": "markdown",
   "metadata": {},
   "source": [
    "## Supervised linear regression"
   ]
  },
  {
   "cell_type": "code",
   "execution_count": 1,
   "metadata": {
    "collapsed": false
   },
   "outputs": [
    {
     "data": {
      "application/javascript": [
       "IPython.OutputArea.auto_scroll_threshold = 9999;"
      ],
      "text/plain": [
       "<IPython.core.display.Javascript object>"
      ]
     },
     "metadata": {},
     "output_type": "display_data"
    }
   ],
   "source": [
    "%%javascript\n",
    "IPython.OutputArea.auto_scroll_threshold = 9999;"
   ]
  },
  {
   "cell_type": "code",
   "execution_count": 2,
   "metadata": {
    "collapsed": false
   },
   "outputs": [
    {
     "name": "stdout",
     "output_type": "stream",
     "text": [
      "              Open         High          Low        Close        Volume  \\\n",
      "count  1258.000000  1258.000000  1258.000000  1258.000000  1.258000e+03   \n",
      "mean    174.596113   175.463052   173.685445   174.652886  1.342206e+08   \n",
      "std      30.696889    30.727845    30.658095    30.700588  6.514242e+07   \n",
      "min     108.349998   112.580002   107.430000   109.930000  3.731780e+07   \n",
      "25%     143.430000   144.094997   142.627502   143.367501  9.109502e+07   \n",
      "50%     183.714996   184.275002   182.800003   183.835007  1.189386e+08   \n",
      "75%     203.625004   204.527496   202.550003   203.467499  1.589144e+08   \n",
      "max     218.399994   218.759995   217.800003   218.179993  6.626074e+08   \n",
      "\n",
      "         Adj Close  \n",
      "count  1258.000000  \n",
      "mean    166.880638  \n",
      "std      33.616377  \n",
      "min      99.632548  \n",
      "25%     132.713005  \n",
      "50%     174.888333  \n",
      "75%     199.052500  \n",
      "max     218.179993  \n",
      "\n",
      "\n"
     ]
    },
    {
     "name": "stderr",
     "output_type": "stream",
     "text": [
      "/Users/carldgosselin/anaconda/lib/python2.7/site-packages/matplotlib/collections.py:590: FutureWarning: elementwise comparison failed; returning scalar instead, but in the future will perform elementwise comparison\n",
      "  if self._edgecolors == str('face'):\n"
     ]
    },
    {
     "data": {
      "image/png": "[encoded data removed]",
      "text/plain": [
       "<matplotlib.figure.Figure at 0x1055b5750>"
      ]
     },
     "metadata": {},
     "output_type": "display_data"
    },
    {
     "name": "stdout",
     "output_type": "stream",
     "text": [
      "Score on training data\n",
      "regr.score(X_train, y_train):  0.992932562031 \n",
      "\n",
      "Score on testing (unseen) data\n",
      "regr.score(X_test, y_test): 0.68\n",
      "Mean squared error:  23.9108579317 \n",
      "\n"
     ]
    }
   ],
   "source": [
    "import os\n",
    "import pandas as pd\n",
    "import numpy as np\n",
    "import scipy.optimize as spo\n",
    "import matplotlib.pyplot as plt\n",
    "%matplotlib inline \n",
    "\n",
    "from sklearn.cross_validation import train_test_split\n",
    "from sklearn import linear_model\n",
    "from sklearn.metrics import mean_squared_error\n",
    "\n",
    "\n",
    "def symbol_to_path(symbol, base_dir=\"data\"):\n",
    "    return os.path.join(base_dir, \"{}.csv\".format(str(symbol)))\n",
    "\n",
    "\n",
    "def plot_selected(df, columns, start_index, end_index):\n",
    "\n",
    "    plot_data(df.ix[start_index:end_index,columns], title=\"Stock Data\")\n",
    "    \n",
    "    \n",
    "def plot_data(df, title):\n",
    "    ax = df.plot(title=title,fontsize=12,figsize=(12,10))\n",
    "    ax.set_xlabel(\"Date\")\n",
    "    ax.set_ylabel(\"Price\")\n",
    "    plt.legend(bbox_to_anchor=(1.05, 1), loc=2, borderaxespad=0.)\n",
    "    plt.show()\n",
    "\n",
    "\n",
    "def show_supervised_linear_regression():\n",
    "    \n",
    "    df = pd.read_csv(symbol_to_path('SPY'), index_col='Date', \n",
    "                parse_dates=True, \n",
    "                usecols=['Date', 'Open', 'High', 'Low', 'Close', 'Volume', 'Adj Close'], \n",
    "                na_values=['nan'])\n",
    "    \n",
    "    # sort data chronologically\n",
    "    df = df.sort_index(ascending=True, axis=0)\n",
    "    \n",
    "    # print df.head(), \"\\n\"\n",
    "    print df.describe()\n",
    "    \n",
    "    # add new column to view Adj Close 5 days later\n",
    "    df['Adj_Close_5_Days_Later'] = df['Adj Close']\n",
    "    df['Adj_Close_5_Days_Later'] = df['Adj_Close_5_Days_Later'].shift(-5)\n",
    "    # print df.head(6)\n",
    "    \n",
    "    # reduce data by date\n",
    "    # df_smaller_set = df['20150101':'20160101']\n",
    "    \n",
    "    # Slice and plot\n",
    "    # plot_selected(df, ['Adj Close'], '2015-01-01', '2016-01-01')\n",
    "    \n",
    "    # Get the features and labels from the stock dataset\n",
    "    # X = df.iloc[:,:-1]\n",
    "    # y = df.iloc[:, -1]\n",
    "    # Split the data into training/testing sets\n",
    "    # X_train, X_test, y_train, y_test = train_test_split(X, y, test_size=0.3, random_state=0)\n",
    "    ##### NOTE:  Can't use gridsearchCV.train_test_split because it doesn't do roll-forward cross validation. #####\n",
    "    # print \"\\n\", \"df.shape: \", df.shape, \"\\n\"\n",
    "    X_train = df.iloc[0:1000,:-1]\n",
    "    y_train = df.iloc[0:1000, -1]\n",
    "    X_test = df.iloc[1000:1253,:-1]\n",
    "    y_test = df.iloc[1000:1253, -1]\n",
    "    \n",
    "    # print \"X_train: \"\n",
    "    # print X_train.head()\n",
    "    # print \"y_train: \"\n",
    "    # print y_train.head(), \"\\n\"\n",
    "    # print \"X_test: \"\n",
    "    # print X_test.tail()\n",
    "    # print \"y_test: \"\n",
    "    # print y_test.tail(), \"\\n\"\n",
    "    \n",
    "    # Create linear regression object\n",
    "    regr = linear_model.LinearRegression()\n",
    "    \n",
    "    # Train the model using the training sets\n",
    "    regr.fit(X_train, y_train)\n",
    "    \n",
    "    # Query\n",
    "    regr.predict(X_test)\n",
    "    \n",
    "    # Plot outputs\n",
    "    print \"\\n\"\n",
    "    plt.figure(figsize=(12,10))\n",
    "    plt.title(\"Real-world results vs machine learning predictions\")\n",
    "    plt.xlabel(\"Prediction\")\n",
    "    plt.ylabel(\"Real-world result\")\n",
    "    plt.scatter(regr.predict(X_test), y_test, color='blue')\n",
    "    # plt.plot(regr.predict(X_test), regr.predict(X_test), color='blue', linewidth=1)\n",
    "    plt.show()\n",
    "    \n",
    "    # The coefficients\n",
    "    # print \"Coefficients (formatted): \"\n",
    "    # print (\"Open: {0:.4f}\".format(round(regr.coef_[0],4)))\n",
    "    # print (\"High: {0:.4f}\".format(round(regr.coef_[1],4)))\n",
    "    # print (\"Low: {0:.4f}\".format(round(regr.coef_[2],4)))\n",
    "    # print (\"Close: {0:.4f}\".format(round(regr.coef_[3],4)))\n",
    "    # print (\"Volume: {0:.9f}\".format(round(regr.coef_[4],9)))\n",
    "    # print (\"Adj Close: {0:.9f}\".format(round(regr.coef_[5],9))), \"\\n\"\n",
    "    \n",
    "    # Explained variance score: 1 is perfect\n",
    "    # Score\n",
    "    print \"Score on training data\"\n",
    "    print \"regr.score(X_train, y_train): \", regr.score(X_train, y_train), \"\\n\"\n",
    "    \n",
    "    print \"Score on testing (unseen) data\"\n",
    "    print('regr.score(X_test, y_test): %.2f' % regr.score(X_test, y_test))\n",
    "    # The mean square error\n",
    "    print \"Mean squared error: \", mean_squared_error(y_test, regr.predict(X_test)), \"\\n\"\n",
    "    # print(\"Residual sum of squares: %.2f\"\n",
    "          # % np.mean((regr.predict(X_test) - y_test) ** 2))\n",
    "    \n",
    "    # print \"Prediction - regr.predict(X_test): \"\n",
    "    # print regr.predict(X_test)[0]\n",
    "    # print regr.predict(X_test)[1]\n",
    "    # print regr.predict(X_test)[2]\n",
    "    # print regr.predict(X_test)[3]\n",
    "    # print regr.predict(X_test)[4], \"\\n\"\n",
    "    # print \"Actual (y_test): \"\n",
    "    # print y_test.head()\n",
    "\n",
    "if __name__ == \"__main__\":\n",
    "    show_supervised_linear_regression()"
   ]
  },
  {
   "cell_type": "code",
   "execution_count": null,
   "metadata": {
    "collapsed": true
   },
   "outputs": [],
   "source": []
  }
 ],
 "metadata": {
  "kernelspec": {
   "display_name": "Python 2",
   "language": "python",
   "name": "python2"
  },
  "language_info": {
   "codemirror_mode": {
    "name": "ipython",
    "version": 2
   },
   "file_extension": ".py",
   "mimetype": "text/x-python",
   "name": "python",
   "nbconvert_exporter": "python",
   "pygments_lexer": "ipython2",
   "version": "2.7.12"
  }
 },
 "nbformat": 4,
 "nbformat_minor": 0
}
