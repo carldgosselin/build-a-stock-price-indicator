{
 "cells": [
  {
   "cell_type": "markdown",
   "metadata": {},
   "source": [
    "## Supervised linear regression"
   ]
  },
  {
   "cell_type": "code",
   "execution_count": 18,
   "metadata": {
    "collapsed": false
   },
   "outputs": [
    {
     "data": {
      "application/javascript": [
       "IPython.OutputArea.auto_scroll_threshold = 9999;"
      ],
      "text/plain": [
       "<IPython.core.display.Javascript object>"
      ]
     },
     "metadata": {},
     "output_type": "display_data"
    }
   ],
   "source": [
    "%%javascript\n",
    "IPython.OutputArea.auto_scroll_threshold = 9999;"
   ]
  },
  {
   "cell_type": "code",
   "execution_count": 64,
   "metadata": {
    "collapsed": false
   },
   "outputs": [
    {
     "name": "stdout",
     "output_type": "stream",
     "text": [
      "                  Open        High         Low       Close     Volume  \\\n",
      "Date                                                                    \n",
      "2011-08-10  115.260002  116.279999  111.949997  112.290001  662607400   \n",
      "2011-08-11  113.260002  118.919998  112.320000  117.330002  487979700   \n",
      "2011-08-12  118.400002  119.209999  117.279999  118.120003  313731600   \n",
      "2011-08-15  119.190002  120.739998  119.000000  120.620003  258810600   \n",
      "2011-08-16  119.470001  120.690002  118.309998  119.589996  294095200   \n",
      "2011-08-17  120.250000  121.199997  118.720001  119.669998  238201100   \n",
      "\n",
      "             Adj Close  Adj_Close_5_Days_Later  \n",
      "Date                                            \n",
      "2011-08-10  101.247666              107.901932  \n",
      "2011-08-11  105.792045              103.249358  \n",
      "2011-08-12  106.504359              101.563247  \n",
      "2011-08-15  108.758515              101.644400  \n",
      "2011-08-16  107.829797              104.989566  \n",
      "2011-08-17  107.901932              106.468292  \n",
      "regr.score(X_train, y_train):  0.992932562031\n",
      "\n",
      "\n",
      "Coefficients (formatted): \n",
      "Open: -0.1772\n",
      "High: 0.5602\n",
      "Low: 0.0161\n",
      "Close: -0.8686\n",
      "Volume: -0.000000000\n",
      "Adj Close: 1.436554309\n",
      "\n",
      "\n",
      "Residual sum of squares: 23.91\n",
      "regr.score(X_test, y_test): 0.68\n",
      "\n",
      "\n"
     ]
    },
    {
     "data": {
      "image/png": "[encoded data removed]",
      "text/plain": [
       "<matplotlib.figure.Figure at 0x1097a1250>"
      ]
     },
     "metadata": {},
     "output_type": "display_data"
    }
   ],
   "source": [
    "import os\n",
    "import pandas as pd\n",
    "import numpy as np\n",
    "import scipy.optimize as spo\n",
    "import matplotlib.pyplot as plt\n",
    "%matplotlib inline \n",
    "\n",
    "from sklearn.cross_validation import train_test_split\n",
    "from sklearn import linear_model\n",
    "\n",
    "\n",
    "def symbol_to_path(symbol, base_dir=\"data\"):\n",
    "    return os.path.join(base_dir, \"{}.csv\".format(str(symbol)))\n",
    "\n",
    "\n",
    "def plot_selected(df, columns, start_index, end_index):\n",
    "\n",
    "    plot_data(df.ix[start_index:end_index,columns], title=\"Stock Data\")\n",
    "    \n",
    "    \n",
    "def plot_data(df, title):\n",
    "    ax = df.plot(title=title,fontsize=12,figsize=(12,10))\n",
    "    ax.set_xlabel(\"Date\")\n",
    "    ax.set_ylabel(\"Price\")\n",
    "    plt.legend(bbox_to_anchor=(1.05, 1), loc=2, borderaxespad=0.)\n",
    "    plt.show()\n",
    "\n",
    "\n",
    "def show_supervised_linear_regression():\n",
    "    \n",
    "    df = pd.read_csv(symbol_to_path('SPY'), index_col='Date', \n",
    "                parse_dates=True, \n",
    "                usecols=['Date', 'Open', 'High', 'Low', 'Close', 'Volume', 'Adj Close'], \n",
    "                na_values=['nan'])\n",
    "    \n",
    "    # sort data chronologically\n",
    "    df = df.sort_index(ascending=True, axis=0)\n",
    "    \n",
    "    # add new column to view Adj Close 5 days later\n",
    "    df['Adj_Close_5_Days_Later'] = df['Adj Close']\n",
    "    df['Adj_Close_5_Days_Later'] = df['Adj_Close_5_Days_Later'].shift(-5)\n",
    "    print df.head(6)\n",
    "    \n",
    "    # reduce data by date\n",
    "    # df_smaller_set = df['20150101':'20160101'] # Not sure if this works yet\n",
    "    \n",
    "    # Slice and plot\n",
    "    # plot_selected(df, ['Adj Close'], '2015-01-01', '2016-01-01')\n",
    "    \n",
    "    # Get the features and labels from the stock dataset\n",
    "    # X = df.iloc[:,:-1]\n",
    "    # y = df.iloc[:, -1]\n",
    "    # Split the data into training/testing sets\n",
    "    # X_train, X_test, y_train, y_test = train_test_split(X, y, test_size=0.3, random_state=0)\n",
    "    ##### NOTE:  Can't use gridsearchCV.train_test_split because it doesn't do roll-forward cross validation. #####\n",
    "    # print \"\\n\", \"df.shape: \", df.shape, \"\\n\"\n",
    "    X_train = df.iloc[0:1000,:-1]\n",
    "    y_train = df.iloc[0:1000, -1]\n",
    "    X_test = df.iloc[1000:1253,:-1]\n",
    "    y_test = df.iloc[1000:1253, -1]\n",
    "    \n",
    "    # print \"X_train: \"\n",
    "    # print X_train.head()\n",
    "    # print \"y_train: \"\n",
    "    # print y_train.head(), \"\\n\"\n",
    "    # print \"X_test: \"\n",
    "    # print X_test.tail()\n",
    "    # print \"y_test: \"\n",
    "    # print y_test.tail(), \"\\n\"\n",
    "    \n",
    "    \n",
    "    # Create linear regression object\n",
    "    regr = linear_model.LinearRegression()\n",
    "    \n",
    "    # Train the model using the training sets\n",
    "    regr.fit(X_train, y_train)\n",
    "    \n",
    "    # Score\n",
    "    print \"regr.score(X_train, y_train): \", regr.score(X_train, y_train)\n",
    "    print \"\\n\"\n",
    "    \n",
    "    # Query\n",
    "    regr.predict(X_test)\n",
    "    \n",
    "    # The coefficients\n",
    "    print \"Coefficients (formatted): \"\n",
    "    print (\"Open: {0:.4f}\".format(round(regr.coef_[0],4)))\n",
    "    print (\"High: {0:.4f}\".format(round(regr.coef_[1],4)))\n",
    "    print (\"Low: {0:.4f}\".format(round(regr.coef_[2],4)))\n",
    "    print (\"Close: {0:.4f}\".format(round(regr.coef_[3],4)))\n",
    "    print (\"Volume: {0:.9f}\".format(round(regr.coef_[4],9)))\n",
    "    print (\"Adj Close: {0:.9f}\".format(round(regr.coef_[5],9)))\n",
    "    print \"\\n\"\n",
    "\n",
    "    # The mean square error\n",
    "    print(\"Residual sum of squares: %.2f\"\n",
    "          % np.mean((regr.predict(X_test) - y_test) ** 2))\n",
    "    \n",
    "    # Explained variance score: 1 is perfect prediction\n",
    "    print('regr.score(X_test, y_test): %.2f' % regr.score(X_test, y_test))\n",
    "    print \"\\n\"\n",
    "    \n",
    "    # Plot outputs\n",
    "    plt.figure(figsize=(12,10))\n",
    "    plt.xlabel(\"Prediction\")\n",
    "    plt.ylabel(\"Real-world result\")\n",
    "    plt.scatter(regr.predict(X_test), y_test, color='blue')\n",
    "    # plt.plot(regr.predict(X_test), regr.predict(X_test), color='blue', linewidth=1)\n",
    "    plt.show()\n",
    "    \n",
    "    # print \"Prediction - regr.predict(X_test): \"\n",
    "    # print regr.predict(X_test)[0]\n",
    "    # print regr.predict(X_test)[1]\n",
    "    # print regr.predict(X_test)[2]\n",
    "    # print regr.predict(X_test)[3]\n",
    "    # print regr.predict(X_test)[4], \"\\n\"\n",
    "    # print \"Actual (y_test): \"\n",
    "    # print y_test.head()\n",
    "\n",
    "if __name__ == \"__main__\":\n",
    "    show_supervised_linear_regression()"
   ]
  },
  {
   "cell_type": "code",
   "execution_count": null,
   "metadata": {
    "collapsed": true
   },
   "outputs": [],
   "source": []
  }
 ],
 "metadata": {
  "kernelspec": {
   "display_name": "Python 2",
   "language": "python",
   "name": "python2"
  },
  "language_info": {
   "codemirror_mode": {
    "name": "ipython",
    "version": 2
   },
   "file_extension": ".py",
   "mimetype": "text/x-python",
   "name": "python",
   "nbconvert_exporter": "python",
   "pygments_lexer": "ipython2",
   "version": "2.7.12"
  }
 },
 "nbformat": 4,
 "nbformat_minor": 0
}
